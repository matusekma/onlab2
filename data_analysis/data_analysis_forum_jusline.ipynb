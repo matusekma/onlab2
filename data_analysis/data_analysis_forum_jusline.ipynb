{
 "cells": [
  {
   "cell_type": "code",
   "execution_count": 1,
   "metadata": {},
   "outputs": [],
   "source": [
    "import json\n",
    "import pandas as pd\n",
    "import numpy as np"
   ]
  },
  {
   "cell_type": "code",
   "execution_count": 2,
   "metadata": {},
   "outputs": [
    {
     "name": "stdout",
     "output_type": "stream",
     "text": [
      "7830\n"
     ]
    }
   ],
   "source": [
    "with open('../webscraping/data/forum_jusline_1601234434378.json') as json_file:\n",
    "    data = json.load(json_file)\n",
    "print(len(data))\n",
    "question_num = 0\n",
    "answer_num = 0\n",
    "for d in data:\n",
    "    question_num += 1\n",
    "    answer_num += len(d['answers'])"
   ]
  },
  {
   "cell_type": "code",
   "execution_count": 3,
   "metadata": {},
   "outputs": [
    {
     "name": "stdout",
     "output_type": "stream",
     "text": [
      "20023\n",
      "7830\n",
      "2.5572158365261815\n"
     ]
    }
   ],
   "source": [
    "print(answer_num)\n",
    "print(question_num)\n",
    "print(answer_num/question_num)"
   ]
  },
  {
   "cell_type": "code",
   "execution_count": 4,
   "metadata": {},
   "outputs": [],
   "source": [
    "df = pd.DataFrame(data, columns =['question', 'answers', 'question_text', 'url', 'topic']) "
   ]
  },
  {
   "cell_type": "code",
   "execution_count": 7,
   "metadata": {},
   "outputs": [
    {
     "data": {
      "text/html": [
       "<div>\n",
       "<style scoped>\n",
       "    .dataframe tbody tr th:only-of-type {\n",
       "        vertical-align: middle;\n",
       "    }\n",
       "\n",
       "    .dataframe tbody tr th {\n",
       "        vertical-align: top;\n",
       "    }\n",
       "\n",
       "    .dataframe thead th {\n",
       "        text-align: right;\n",
       "    }\n",
       "</style>\n",
       "<table border=\"1\" class=\"dataframe\">\n",
       "  <thead>\n",
       "    <tr style=\"text-align: right;\">\n",
       "      <th></th>\n",
       "      <th>question</th>\n",
       "      <th>answers</th>\n",
       "      <th>question_text</th>\n",
       "      <th>url</th>\n",
       "      <th>topic</th>\n",
       "      <th>answer_num</th>\n",
       "      <th>answer_lens</th>\n",
       "      <th>answer_lens_sum</th>\n",
       "    </tr>\n",
       "  </thead>\n",
       "  <tbody>\n",
       "    <tr>\n",
       "      <td>0</td>\n",
       "      <td>Erziehungspflicht, Vernachlässigung?</td>\n",
       "      <td>[Hallo und einen schönen Nachmittag! Vorweg - ...</td>\n",
       "      <td>Hallo! Ich habe eine Frage, hat sich die Mutte...</td>\n",
       "      <td>https://forum.jusline.at//../viewtopic.php?f=2...</td>\n",
       "      <td>Recht, allgemein</td>\n",
       "      <td>3</td>\n",
       "      <td>[700, 2216, 56]</td>\n",
       "      <td>2972</td>\n",
       "    </tr>\n",
       "    <tr>\n",
       "      <td>1</td>\n",
       "      <td>Was ist \"am Wanderweg erlaubt\"?</td>\n",
       "      <td>[Guten Morgen, Vielleicht war mein Beitrag hie...</td>\n",
       "      <td>Guten Morgen! Leider geht es noch einmal um un...</td>\n",
       "      <td>https://forum.jusline.at//../viewtopic.php?f=2...</td>\n",
       "      <td>Recht, allgemein</td>\n",
       "      <td>5</td>\n",
       "      <td>[709, 1026, 762, 282, 105]</td>\n",
       "      <td>2884</td>\n",
       "    </tr>\n",
       "    <tr>\n",
       "      <td>2</td>\n",
       "      <td>Katzen</td>\n",
       "      <td>[Im Prinzip kannst Du Dich an § 1320 (1) 2. Sa...</td>\n",
       "      <td>Guten Morgen! In unserer Gegend gibt es viele ...</td>\n",
       "      <td>https://forum.jusline.at//../viewtopic.php?f=2...</td>\n",
       "      <td>Recht, allgemein</td>\n",
       "      <td>14</td>\n",
       "      <td>[1282, 343, 985, 219, 1218, 549, 499, 61, 1319...</td>\n",
       "      <td>9584</td>\n",
       "    </tr>\n",
       "    <tr>\n",
       "      <td>3</td>\n",
       "      <td>Beglaubigungskosten Notar</td>\n",
       "      <td>[Nelly hat geschrieben: ↑23.09.2020, 16:44 Müs...</td>\n",
       "      <td>Hallo, ich habe erfahren, dass meine Nachbarin...</td>\n",
       "      <td>https://forum.jusline.at//../viewtopic.php?f=2...</td>\n",
       "      <td>Recht, allgemein</td>\n",
       "      <td>3</td>\n",
       "      <td>[1380, 478, 941]</td>\n",
       "      <td>2799</td>\n",
       "    </tr>\n",
       "    <tr>\n",
       "      <td>4</td>\n",
       "      <td>Ce Zeicheen auf Fenstern fehlt</td>\n",
       "      <td>[Was hat denn der Bauträger dazu gemeint? Es m...</td>\n",
       "      <td>Liebes Forum, die neuen Fenster meiner Wohnung...</td>\n",
       "      <td>https://forum.jusline.at//../viewtopic.php?f=2...</td>\n",
       "      <td>Recht, allgemein</td>\n",
       "      <td>2</td>\n",
       "      <td>[1293, 32]</td>\n",
       "      <td>1325</td>\n",
       "    </tr>\n",
       "    <tr>\n",
       "      <td>...</td>\n",
       "      <td>...</td>\n",
       "      <td>...</td>\n",
       "      <td>...</td>\n",
       "      <td>...</td>\n",
       "      <td>...</td>\n",
       "      <td>...</td>\n",
       "      <td>...</td>\n",
       "      <td>...</td>\n",
       "    </tr>\n",
       "    <tr>\n",
       "      <td>7825</td>\n",
       "      <td>Tierhaltung in Amtsräumen</td>\n",
       "      <td>[für verfassungsrechtliche argumente ist hier ...</td>\n",
       "      <td>Guten Morgen Seit 26 Jahren bin ich als VB in ...</td>\n",
       "      <td>https://forum.jusline.at//../viewtopic.php?f=1...</td>\n",
       "      <td>Verfassungsrecht</td>\n",
       "      <td>2</td>\n",
       "      <td>[156, 2201]</td>\n",
       "      <td>2357</td>\n",
       "    </tr>\n",
       "    <tr>\n",
       "      <td>7826</td>\n",
       "      <td>Nutzung von Wald</td>\n",
       "      <td>[Leider kann der Insel gesperrt werden! Rein r...</td>\n",
       "      <td>Liebe Jusline ! Ich habe festgestellt, dass da...</td>\n",
       "      <td>https://forum.jusline.at//../viewtopic.php?f=1...</td>\n",
       "      <td>Verfassungsrecht</td>\n",
       "      <td>1</td>\n",
       "      <td>[705]</td>\n",
       "      <td>705</td>\n",
       "    </tr>\n",
       "    <tr>\n",
       "      <td>7827</td>\n",
       "      <td>IVF-Fonds Gesetz</td>\n",
       "      <td>[das einziehen einer altersgrenze ist gleichhe...</td>\n",
       "      <td>Guten Tag! Wir, Frau 42 und Mann 43 wünschen u...</td>\n",
       "      <td>https://forum.jusline.at//../viewtopic.php?f=1...</td>\n",
       "      <td>Verfassungsrecht</td>\n",
       "      <td>2</td>\n",
       "      <td>[159, 475]</td>\n",
       "      <td>634</td>\n",
       "    </tr>\n",
       "    <tr>\n",
       "      <td>7828</td>\n",
       "      <td>\"öffentliche Agentien\"</td>\n",
       "      <td>[Da ich den entsprechenden Artikel nicht kenne...</td>\n",
       "      <td>Ich wurde einmal gefragt, was denn unter den i...</td>\n",
       "      <td>https://forum.jusline.at//../viewtopic.php?f=1...</td>\n",
       "      <td>Verfassungsrecht</td>\n",
       "      <td>3</td>\n",
       "      <td>[308, 286, 189]</td>\n",
       "      <td>783</td>\n",
       "    </tr>\n",
       "    <tr>\n",
       "      <td>7829</td>\n",
       "      <td>Gleichberechtigung</td>\n",
       "      <td>[Sie beziehen sich auf den gleich mehrfach im ...</td>\n",
       "      <td>Ich bin Polizeibeamter. Meine Frage bezieht si...</td>\n",
       "      <td>https://forum.jusline.at//../viewtopic.php?f=1...</td>\n",
       "      <td>Verfassungsrecht</td>\n",
       "      <td>2</td>\n",
       "      <td>[909, 769]</td>\n",
       "      <td>1678</td>\n",
       "    </tr>\n",
       "  </tbody>\n",
       "</table>\n",
       "<p>7827 rows × 8 columns</p>\n",
       "</div>"
      ],
      "text/plain": [
       "                                  question  \\\n",
       "0     Erziehungspflicht, Vernachlässigung?   \n",
       "1          Was ist \"am Wanderweg erlaubt\"?   \n",
       "2                                   Katzen   \n",
       "3                Beglaubigungskosten Notar   \n",
       "4           Ce Zeicheen auf Fenstern fehlt   \n",
       "...                                    ...   \n",
       "7825             Tierhaltung in Amtsräumen   \n",
       "7826                      Nutzung von Wald   \n",
       "7827                      IVF-Fonds Gesetz   \n",
       "7828                \"öffentliche Agentien\"   \n",
       "7829                    Gleichberechtigung   \n",
       "\n",
       "                                                answers  \\\n",
       "0     [Hallo und einen schönen Nachmittag! Vorweg - ...   \n",
       "1     [Guten Morgen, Vielleicht war mein Beitrag hie...   \n",
       "2     [Im Prinzip kannst Du Dich an § 1320 (1) 2. Sa...   \n",
       "3     [Nelly hat geschrieben: ↑23.09.2020, 16:44 Müs...   \n",
       "4     [Was hat denn der Bauträger dazu gemeint? Es m...   \n",
       "...                                                 ...   \n",
       "7825  [für verfassungsrechtliche argumente ist hier ...   \n",
       "7826  [Leider kann der Insel gesperrt werden! Rein r...   \n",
       "7827  [das einziehen einer altersgrenze ist gleichhe...   \n",
       "7828  [Da ich den entsprechenden Artikel nicht kenne...   \n",
       "7829  [Sie beziehen sich auf den gleich mehrfach im ...   \n",
       "\n",
       "                                          question_text  \\\n",
       "0     Hallo! Ich habe eine Frage, hat sich die Mutte...   \n",
       "1     Guten Morgen! Leider geht es noch einmal um un...   \n",
       "2     Guten Morgen! In unserer Gegend gibt es viele ...   \n",
       "3     Hallo, ich habe erfahren, dass meine Nachbarin...   \n",
       "4     Liebes Forum, die neuen Fenster meiner Wohnung...   \n",
       "...                                                 ...   \n",
       "7825  Guten Morgen Seit 26 Jahren bin ich als VB in ...   \n",
       "7826  Liebe Jusline ! Ich habe festgestellt, dass da...   \n",
       "7827  Guten Tag! Wir, Frau 42 und Mann 43 wünschen u...   \n",
       "7828  Ich wurde einmal gefragt, was denn unter den i...   \n",
       "7829  Ich bin Polizeibeamter. Meine Frage bezieht si...   \n",
       "\n",
       "                                                    url             topic  \\\n",
       "0     https://forum.jusline.at//../viewtopic.php?f=2...  Recht, allgemein   \n",
       "1     https://forum.jusline.at//../viewtopic.php?f=2...  Recht, allgemein   \n",
       "2     https://forum.jusline.at//../viewtopic.php?f=2...  Recht, allgemein   \n",
       "3     https://forum.jusline.at//../viewtopic.php?f=2...  Recht, allgemein   \n",
       "4     https://forum.jusline.at//../viewtopic.php?f=2...  Recht, allgemein   \n",
       "...                                                 ...               ...   \n",
       "7825  https://forum.jusline.at//../viewtopic.php?f=1...  Verfassungsrecht   \n",
       "7826  https://forum.jusline.at//../viewtopic.php?f=1...  Verfassungsrecht   \n",
       "7827  https://forum.jusline.at//../viewtopic.php?f=1...  Verfassungsrecht   \n",
       "7828  https://forum.jusline.at//../viewtopic.php?f=1...  Verfassungsrecht   \n",
       "7829  https://forum.jusline.at//../viewtopic.php?f=1...  Verfassungsrecht   \n",
       "\n",
       "      answer_num                                        answer_lens  \\\n",
       "0              3                                    [700, 2216, 56]   \n",
       "1              5                         [709, 1026, 762, 282, 105]   \n",
       "2             14  [1282, 343, 985, 219, 1218, 549, 499, 61, 1319...   \n",
       "3              3                                   [1380, 478, 941]   \n",
       "4              2                                         [1293, 32]   \n",
       "...          ...                                                ...   \n",
       "7825           2                                        [156, 2201]   \n",
       "7826           1                                              [705]   \n",
       "7827           2                                         [159, 475]   \n",
       "7828           3                                    [308, 286, 189]   \n",
       "7829           2                                         [909, 769]   \n",
       "\n",
       "      answer_lens_sum  \n",
       "0                2972  \n",
       "1                2884  \n",
       "2                9584  \n",
       "3                2799  \n",
       "4                1325  \n",
       "...               ...  \n",
       "7825             2357  \n",
       "7826              705  \n",
       "7827              634  \n",
       "7828              783  \n",
       "7829             1678  \n",
       "\n",
       "[7827 rows x 8 columns]"
      ]
     },
     "execution_count": 7,
     "metadata": {},
     "output_type": "execute_result"
    }
   ],
   "source": [
    "df[\"answer_num\"] = df[\"answers\"].apply(lambda answers:len(answers))\n",
    "df[\"answer_lens\"] = df[\"answers\"].apply(lambda answers: [len(answer) for answer in answers])\n",
    "df[\"answer_lens_sum\"] = df[\"answer_lens\"].apply(lambda lens: sum(lens))\n",
    "df = df[df[\"answer_num\"] != 0]\n",
    "df"
   ]
  },
  {
   "cell_type": "code",
   "execution_count": 14,
   "metadata": {},
   "outputs": [],
   "source": [
    "df[\"question_len\"] = df[\"question\"].apply(lambda question: len(question))\n",
    "df[\"question_text_len\"] = df[\"question_text\"].apply(lambda question_text: len(question_text))"
   ]
  },
  {
   "cell_type": "code",
   "execution_count": 15,
   "metadata": {},
   "outputs": [],
   "source": [
    "answer_lens = [answer_len for answer_lens in df[\"answer_lens\"].values for answer_len in answer_lens]"
   ]
  },
  {
   "cell_type": "code",
   "execution_count": 16,
   "metadata": {},
   "outputs": [],
   "source": [
    "import matplotlib.pyplot as plt\n",
    "def plot_hist(data, bins, x_label=\"\", y_label=\"\"):\n",
    "    plt.figure(num=None, figsize=(10, 10), facecolor='w', edgecolor='k')\n",
    "\n",
    "    plt.hist(data, bins=bins, edgecolor=\"k\")\n",
    "    plt.xticks(bins)\n",
    "    plt.xlabel(x_label)\n",
    "    plt.ylabel(y_label)\n",
    "    plt.show()"
   ]
  },
  {
   "cell_type": "code",
   "execution_count": 17,
   "metadata": {},
   "outputs": [],
   "source": [
    "def print_stats(data):\n",
    "    print(\"Mean\", np.mean(data))\n",
    "    print(\"Max\", np.max(data))\n",
    "    print(\"Min\", np.min(data))\n",
    "    print(\"Std\", np.std(data))"
   ]
  },
  {
   "cell_type": "code",
   "execution_count": 18,
   "metadata": {},
   "outputs": [
    {
     "name": "stdout",
     "output_type": "stream",
     "text": [
      "Answer length characteristics:\n",
      "Mean 573.4507816011587\n",
      "Max 18001\n",
      "Min 0\n",
      "Std 683.2641695187251\n"
     ]
    }
   ],
   "source": [
    "print(\"Answer length characteristics:\")\n",
    "print_stats(answer_lens)"
   ]
  },
  {
   "cell_type": "code",
   "execution_count": 13,
   "metadata": {},
   "outputs": [
    {
     "data": {
      "image/png": "[encoded data removed]",
      "text/plain": [
       "<Figure size 720x720 with 1 Axes>"
      ]
     },
     "metadata": {},
     "output_type": "display_data"
    }
   ],
   "source": [
    "plot_hist(answer_lens, list(range(0, 2000, 100)), x_label=\"Answer length\", y_label=\"# of answers\")"
   ]
  },
  {
   "cell_type": "code",
   "execution_count": 19,
   "metadata": {},
   "outputs": [
    {
     "name": "stdout",
     "output_type": "stream",
     "text": [
      "Question length characteristics:\n",
      "Mean 30.767727098505173\n",
      "Max 140\n",
      "Min 1\n",
      "Std 15.620620926116064\n"
     ]
    }
   ],
   "source": [
    "question_lens = df['question_len']\n",
    "print(\"Question length characteristics:\")\n",
    "print_stats(question_lens)"
   ]
  },
  {
   "cell_type": "code",
   "execution_count": 20,
   "metadata": {},
   "outputs": [
    {
     "data": {
      "image/png": "[encoded data removed]",
      "text/plain": [
       "<Figure size 720x720 with 1 Axes>"
      ]
     },
     "metadata": {},
     "output_type": "display_data"
    }
   ],
   "source": [
    "bins = list(range(0, 150, 10))\n",
    "plot_hist(question_lens.values, bins, x_label=\"Question length\", y_label=\"# of questions\")"
   ]
  },
  {
   "cell_type": "code",
   "execution_count": 21,
   "metadata": {},
   "outputs": [
    {
     "name": "stdout",
     "output_type": "stream",
     "text": [
      "Question text length characteristics:\n",
      "Mean 925.3527532898939\n",
      "Max 16489\n",
      "Min 0\n",
      "Std 917.0621161522201\n"
     ]
    }
   ],
   "source": [
    "question_text_lens = df['question_text_len']\n",
    "print(\"Question text length characteristics:\")\n",
    "print_stats(question_text_lens)"
   ]
  },
  {
   "cell_type": "code",
   "execution_count": 22,
   "metadata": {},
   "outputs": [
    {
     "data": {
      "image/png": "[encoded data removed]",
      "text/plain": [
       "<Figure size 720x720 with 1 Axes>"
      ]
     },
     "metadata": {},
     "output_type": "display_data"
    }
   ],
   "source": [
    "bins = list(range(0, 3500, 200))\n",
    "plot_hist(question_text_lens.values, bins, x_label=\"Question text length\", y_label=\"# of question texts\")"
   ]
  },
  {
   "cell_type": "code",
   "execution_count": null,
   "metadata": {},
   "outputs": [],
   "source": []
  }
 ],
 "metadata": {
  "kernelspec": {
   "display_name": "Python 3",
   "language": "python",
   "name": "python3"
  },
  "language_info": {
   "codemirror_mode": {
    "name": "ipython",
    "version": 3
   },
   "file_extension": ".py",
   "mimetype": "text/x-python",
   "name": "python",
   "nbconvert_exporter": "python",
   "pygments_lexer": "ipython3",
   "version": "3.8.5"
  }
 },
 "nbformat": 4,
 "nbformat_minor": 4
}
