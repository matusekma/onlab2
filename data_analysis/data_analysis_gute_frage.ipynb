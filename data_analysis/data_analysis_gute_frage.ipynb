{
 "cells": [
  {
   "cell_type": "code",
   "execution_count": 1,
   "metadata": {},
   "outputs": [],
   "source": [
    "import json\n",
    "import pandas as pd\n",
    "import numpy as np"
   ]
  },
  {
   "cell_type": "code",
   "execution_count": 2,
   "metadata": {},
   "outputs": [
    {
     "name": "stdout",
     "output_type": "stream",
     "text": [
      "57288\n"
     ]
    }
   ],
   "source": [
    "with open('../webscraping/data/gute_frage_1600875979316.json') as json_file:\n",
    "    data = json.load(json_file)\n",
    "    data = json.loads(data)\n",
    "print(len(data))\n",
    "question_num = 0\n",
    "answer_num = 0\n",
    "for d in data:\n",
    "    question_num += 1\n",
    "    answer_num += len(d['answers'])"
   ]
  },
  {
   "cell_type": "code",
   "execution_count": 3,
   "metadata": {},
   "outputs": [
    {
     "name": "stdout",
     "output_type": "stream",
     "text": [
      "215222\n",
      "57288\n",
      "3.7568426197458455\n"
     ]
    }
   ],
   "source": [
    "print(answer_num)\n",
    "print(question_num)\n",
    "print(answer_num/question_num)"
   ]
  },
  {
   "cell_type": "code",
   "execution_count": 4,
   "metadata": {},
   "outputs": [
    {
     "data": {
      "text/html": [
       "<div>\n",
       "<style scoped>\n",
       "    .dataframe tbody tr th:only-of-type {\n",
       "        vertical-align: middle;\n",
       "    }\n",
       "\n",
       "    .dataframe tbody tr th {\n",
       "        vertical-align: top;\n",
       "    }\n",
       "\n",
       "    .dataframe thead th {\n",
       "        text-align: right;\n",
       "    }\n",
       "</style>\n",
       "<table border=\"1\" class=\"dataframe\">\n",
       "  <thead>\n",
       "    <tr style=\"text-align: right;\">\n",
       "      <th></th>\n",
       "      <th>question</th>\n",
       "      <th>answers</th>\n",
       "      <th>question_text</th>\n",
       "      <th>url</th>\n",
       "      <th>points</th>\n",
       "    </tr>\n",
       "  </thead>\n",
       "  <tbody>\n",
       "    <tr>\n",
       "      <td>0</td>\n",
       "      <td>Leihwagen kaputt - muss ich es bezahlen?</td>\n",
       "      <td>[Das ist ganz sicher nicht rechtens. Ihr müsst...</td>\n",
       "      <td>Ich habe bei einer Autowerkstatt, wo mein Auto...</td>\n",
       "      <td>https://www.gutefrage.net/frage/leihwagen-kapu...</td>\n",
       "      <td>[0, 0, 0, 0, 0]</td>\n",
       "    </tr>\n",
       "    <tr>\n",
       "      <td>1</td>\n",
       "      <td>Guten Morgen - Habt ihr eine Patientenverfügun...</td>\n",
       "      <td>[Habe auch einen Organspendeausweis - auch wic...</td>\n",
       "      <td>Guten Morgen ihr Lieben! Krankheit, Leiden, St...</td>\n",
       "      <td>https://www.gutefrage.net/frage/guten-morgen--...</td>\n",
       "      <td>[0, 0, 0]</td>\n",
       "    </tr>\n",
       "    <tr>\n",
       "      <td>2</td>\n",
       "      <td>Razzia gegen illegale Leiharbeit in der Fleisc...</td>\n",
       "      <td>[Können wir nicht erstmal an so kleinen rechts...</td>\n",
       "      <td>Aufgrund des Verdachts der Einschleusung von i...</td>\n",
       "      <td>https://www.gutefrage.net/frage/razzia-gegen-i...</td>\n",
       "      <td>[1, 4, 0, 1, 1]</td>\n",
       "    </tr>\n",
       "    <tr>\n",
       "      <td>3</td>\n",
       "      <td>fristose Kündigung Mietvertrag?</td>\n",
       "      <td>[Wenn du die Miete direkt vom Jobcenter erhält...</td>\n",
       "      <td>Ich habe meinem Mieter wegen Zahlungsrückständ...</td>\n",
       "      <td>https://www.gutefrage.net/frage/fristose-kuend...</td>\n",
       "      <td>[0]</td>\n",
       "    </tr>\n",
       "    <tr>\n",
       "      <td>4</td>\n",
       "      <td>Attest gegen Maske vs Kündigung?</td>\n",
       "      <td>[1. Das Attest Trägt der Mitarbeiter eine Saue...</td>\n",
       "      <td>Hallo, wie verhält sich eigentlich folgender F...</td>\n",
       "      <td>https://www.gutefrage.net/frage/attest-gegen-m...</td>\n",
       "      <td>[0, 1, 0, 1, 0]</td>\n",
       "    </tr>\n",
       "    <tr>\n",
       "      <td>...</td>\n",
       "      <td>...</td>\n",
       "      <td>...</td>\n",
       "      <td>...</td>\n",
       "      <td>...</td>\n",
       "      <td>...</td>\n",
       "    </tr>\n",
       "    <tr>\n",
       "      <td>57283</td>\n",
       "      <td>Springt die private Haftpflicht bei Mietwagen ...</td>\n",
       "      <td>[In der privaten Haftpflichtversicherung sind ...</td>\n",
       "      <td>Hallo, mal angenommen ich fahre mit car2go, ba...</td>\n",
       "      <td>https://www.gutefrage.net/frage/springt-die-pr...</td>\n",
       "      <td>[unk, unk, 1, unk, unk]</td>\n",
       "    </tr>\n",
       "    <tr>\n",
       "      <td>57284</td>\n",
       "      <td>Beihilfe berechtigt - was bekommt mein Arbeitg...</td>\n",
       "      <td>[Hallo makkeeeh, nein dein Arbeitgeber erfährt...</td>\n",
       "      <td>Hallo, bekommt mein Arbeitgeber etwas mit, wen...</td>\n",
       "      <td>https://www.gutefrage.net/frage/beihilfe-berec...</td>\n",
       "      <td>[unk, unk, 2, unk, unk]</td>\n",
       "    </tr>\n",
       "    <tr>\n",
       "      <td>57285</td>\n",
       "      <td>Darf ich alle Clash Royale Bilder auf meiner C...</td>\n",
       "      <td>[einfach im clash royal forum mal fragen, Lieb...</td>\n",
       "      <td>Hallo liebes Forum Ich frage mich, ob ich für ...</td>\n",
       "      <td>https://www.gutefrage.net/frage/darf-ich-alle-...</td>\n",
       "      <td>[0, unk]</td>\n",
       "    </tr>\n",
       "    <tr>\n",
       "      <td>57286</td>\n",
       "      <td>Ist es eine Beleidigung, wenn man zu seine Fra...</td>\n",
       "      <td>[Eine Beleidigung wäre es erst dann, wenn du j...</td>\n",
       "      <td>Hallo! Ich war vor wenigen Stunden beim Kiosk,...</td>\n",
       "      <td>https://www.gutefrage.net/frage/ist-es-eine-be...</td>\n",
       "      <td>[1, 2, 1, 2]</td>\n",
       "    </tr>\n",
       "    <tr>\n",
       "      <td>57287</td>\n",
       "      <td>Zulassung Kennzeichen Kleber</td>\n",
       "      <td>[Du meinst vermutlich, daß vorne keine AU Plak...</td>\n",
       "      <td>Hallo, mein Auto ist im Barnim, Brandenburg zu...</td>\n",
       "      <td>https://www.gutefrage.net/frage/zulassung-kenn...</td>\n",
       "      <td>[0, 0, 0]</td>\n",
       "    </tr>\n",
       "  </tbody>\n",
       "</table>\n",
       "<p>57288 rows × 5 columns</p>\n",
       "</div>"
      ],
      "text/plain": [
       "                                                question  \\\n",
       "0               Leihwagen kaputt - muss ich es bezahlen?   \n",
       "1      Guten Morgen - Habt ihr eine Patientenverfügun...   \n",
       "2      Razzia gegen illegale Leiharbeit in der Fleisc...   \n",
       "3                        fristose Kündigung Mietvertrag?   \n",
       "4                       Attest gegen Maske vs Kündigung?   \n",
       "...                                                  ...   \n",
       "57283  Springt die private Haftpflicht bei Mietwagen ...   \n",
       "57284  Beihilfe berechtigt - was bekommt mein Arbeitg...   \n",
       "57285  Darf ich alle Clash Royale Bilder auf meiner C...   \n",
       "57286  Ist es eine Beleidigung, wenn man zu seine Fra...   \n",
       "57287                       Zulassung Kennzeichen Kleber   \n",
       "\n",
       "                                                 answers  \\\n",
       "0      [Das ist ganz sicher nicht rechtens. Ihr müsst...   \n",
       "1      [Habe auch einen Organspendeausweis - auch wic...   \n",
       "2      [Können wir nicht erstmal an so kleinen rechts...   \n",
       "3      [Wenn du die Miete direkt vom Jobcenter erhält...   \n",
       "4      [1. Das Attest Trägt der Mitarbeiter eine Saue...   \n",
       "...                                                  ...   \n",
       "57283  [In der privaten Haftpflichtversicherung sind ...   \n",
       "57284  [Hallo makkeeeh, nein dein Arbeitgeber erfährt...   \n",
       "57285  [einfach im clash royal forum mal fragen, Lieb...   \n",
       "57286  [Eine Beleidigung wäre es erst dann, wenn du j...   \n",
       "57287  [Du meinst vermutlich, daß vorne keine AU Plak...   \n",
       "\n",
       "                                           question_text  \\\n",
       "0      Ich habe bei einer Autowerkstatt, wo mein Auto...   \n",
       "1      Guten Morgen ihr Lieben! Krankheit, Leiden, St...   \n",
       "2      Aufgrund des Verdachts der Einschleusung von i...   \n",
       "3      Ich habe meinem Mieter wegen Zahlungsrückständ...   \n",
       "4      Hallo, wie verhält sich eigentlich folgender F...   \n",
       "...                                                  ...   \n",
       "57283  Hallo, mal angenommen ich fahre mit car2go, ba...   \n",
       "57284  Hallo, bekommt mein Arbeitgeber etwas mit, wen...   \n",
       "57285  Hallo liebes Forum Ich frage mich, ob ich für ...   \n",
       "57286  Hallo! Ich war vor wenigen Stunden beim Kiosk,...   \n",
       "57287  Hallo, mein Auto ist im Barnim, Brandenburg zu...   \n",
       "\n",
       "                                                     url  \\\n",
       "0      https://www.gutefrage.net/frage/leihwagen-kapu...   \n",
       "1      https://www.gutefrage.net/frage/guten-morgen--...   \n",
       "2      https://www.gutefrage.net/frage/razzia-gegen-i...   \n",
       "3      https://www.gutefrage.net/frage/fristose-kuend...   \n",
       "4      https://www.gutefrage.net/frage/attest-gegen-m...   \n",
       "...                                                  ...   \n",
       "57283  https://www.gutefrage.net/frage/springt-die-pr...   \n",
       "57284  https://www.gutefrage.net/frage/beihilfe-berec...   \n",
       "57285  https://www.gutefrage.net/frage/darf-ich-alle-...   \n",
       "57286  https://www.gutefrage.net/frage/ist-es-eine-be...   \n",
       "57287  https://www.gutefrage.net/frage/zulassung-kenn...   \n",
       "\n",
       "                        points  \n",
       "0              [0, 0, 0, 0, 0]  \n",
       "1                    [0, 0, 0]  \n",
       "2              [1, 4, 0, 1, 1]  \n",
       "3                          [0]  \n",
       "4              [0, 1, 0, 1, 0]  \n",
       "...                        ...  \n",
       "57283  [unk, unk, 1, unk, unk]  \n",
       "57284  [unk, unk, 2, unk, unk]  \n",
       "57285                 [0, unk]  \n",
       "57286             [1, 2, 1, 2]  \n",
       "57287                [0, 0, 0]  \n",
       "\n",
       "[57288 rows x 5 columns]"
      ]
     },
     "execution_count": 4,
     "metadata": {},
     "output_type": "execute_result"
    }
   ],
   "source": [
    "df = pd.DataFrame(data, columns =['question', 'answers', 'question_text', 'url', 'points'])  \n",
    "df"
   ]
  },
  {
   "cell_type": "code",
   "execution_count": 5,
   "metadata": {},
   "outputs": [],
   "source": [
    "df[\"answer_num\"] = df[\"answers\"].apply(lambda answers:len(answers))\n",
    "df[\"answer_lens\"] = df[\"answers\"].apply(lambda answers: [len(answer) for answer in answers])\n",
    "df[\"answer_lens_sum\"] = df[\"answer_lens\"].apply(lambda lens: sum(lens))"
   ]
  },
  {
   "cell_type": "code",
   "execution_count": 6,
   "metadata": {},
   "outputs": [],
   "source": [
    "df[\"question_len\"] = df[\"question\"].apply(lambda question: len(question))\n",
    "df[\"question_text_len\"] = df[\"question_text\"].apply(lambda question_text: len(question_text))"
   ]
  },
  {
   "cell_type": "code",
   "execution_count": 13,
   "metadata": {},
   "outputs": [],
   "source": [
    "df = df[df[\"answer_num\"] != 0]"
   ]
  },
  {
   "cell_type": "code",
   "execution_count": 14,
   "metadata": {},
   "outputs": [],
   "source": [
    "answer_lens = [answer_len for answer_lens in df[\"answer_lens\"].values for answer_len in answer_lens]"
   ]
  },
  {
   "cell_type": "code",
   "execution_count": 15,
   "metadata": {},
   "outputs": [],
   "source": [
    "import matplotlib.pyplot as plt\n",
    "def plot_hist(data, bins, x_label=\"\", y_label=\"\"):\n",
    "    plt.figure(num=None, figsize=(10, 10), facecolor='w', edgecolor='k')\n",
    "\n",
    "    plt.hist(data, bins=bins, edgecolor=\"k\")\n",
    "    plt.xticks(bins)\n",
    "    plt.xlabel(x_label)\n",
    "    plt.ylabel(y_label)\n",
    "    plt.show()"
   ]
  },
  {
   "cell_type": "code",
   "execution_count": 16,
   "metadata": {},
   "outputs": [],
   "source": [
    "def print_stats(data):\n",
    "    print(\"Mean\", np.mean(data))\n",
    "    print(\"Max\", np.max(data))\n",
    "    print(\"Min\", np.min(data))\n",
    "    print(\"Std\", np.std(data))"
   ]
  },
  {
   "cell_type": "code",
   "execution_count": 17,
   "metadata": {},
   "outputs": [
    {
     "name": "stdout",
     "output_type": "stream",
     "text": [
      "Answer length characteristics:\n",
      "Mean 335.7353430411389\n",
      "Max 26474\n",
      "Min 0\n",
      "Std 395.0151664629946\n"
     ]
    }
   ],
   "source": [
    "print(\"Answer length characteristics:\")\n",
    "print_stats(answer_lens)"
   ]
  },
  {
   "cell_type": "code",
   "execution_count": 20,
   "metadata": {},
   "outputs": [
    {
     "ename": "ValueError",
     "evalue": "Lengths must match to compare",
     "output_type": "error",
     "traceback": [
      "\u001b[1;31m---------------------------------------------------------------------------\u001b[0m",
      "\u001b[1;31mValueError\u001b[0m                                Traceback (most recent call last)",
      "\u001b[1;32m<ipython-input-20-f8b31b6fe476>\u001b[0m in \u001b[0;36m<module>\u001b[1;34m\u001b[0m\n\u001b[1;32m----> 1\u001b[1;33m \u001b[0mdf\u001b[0m\u001b[1;33m[\u001b[0m\u001b[0mdf\u001b[0m\u001b[1;33m[\u001b[0m\u001b[1;34m\"answer_lens\"\u001b[0m\u001b[1;33m]\u001b[0m \u001b[1;33m==\u001b[0m \u001b[1;33m[\u001b[0m\u001b[1;33m]\u001b[0m\u001b[1;33m]\u001b[0m\u001b[1;33m\u001b[0m\u001b[1;33m\u001b[0m\u001b[0m\n\u001b[0m",
      "\u001b[1;32m~\\Anaconda3\\lib\\site-packages\\pandas\\core\\ops\\__init__.py\u001b[0m in \u001b[0;36mwrapper\u001b[1;34m(self, other, axis)\u001b[0m\n\u001b[0;32m   1205\u001b[0m             \u001b[1;31m# as it will broadcast\u001b[0m\u001b[1;33m\u001b[0m\u001b[1;33m\u001b[0m\u001b[1;33m\u001b[0m\u001b[0m\n\u001b[0;32m   1206\u001b[0m             \u001b[1;32mif\u001b[0m \u001b[0mother\u001b[0m\u001b[1;33m.\u001b[0m\u001b[0mndim\u001b[0m \u001b[1;33m!=\u001b[0m \u001b[1;36m0\u001b[0m \u001b[1;32mand\u001b[0m \u001b[0mlen\u001b[0m\u001b[1;33m(\u001b[0m\u001b[0mself\u001b[0m\u001b[1;33m)\u001b[0m \u001b[1;33m!=\u001b[0m \u001b[0mlen\u001b[0m\u001b[1;33m(\u001b[0m\u001b[0mother\u001b[0m\u001b[1;33m)\u001b[0m\u001b[1;33m:\u001b[0m\u001b[1;33m\u001b[0m\u001b[1;33m\u001b[0m\u001b[0m\n\u001b[1;32m-> 1207\u001b[1;33m                 \u001b[1;32mraise\u001b[0m \u001b[0mValueError\u001b[0m\u001b[1;33m(\u001b[0m\u001b[1;34m\"Lengths must match to compare\"\u001b[0m\u001b[1;33m)\u001b[0m\u001b[1;33m\u001b[0m\u001b[1;33m\u001b[0m\u001b[0m\n\u001b[0m\u001b[0;32m   1208\u001b[0m \u001b[1;33m\u001b[0m\u001b[0m\n\u001b[0;32m   1209\u001b[0m             \u001b[0mres_values\u001b[0m \u001b[1;33m=\u001b[0m \u001b[0mna_op\u001b[0m\u001b[1;33m(\u001b[0m\u001b[0mself\u001b[0m\u001b[1;33m.\u001b[0m\u001b[0mvalues\u001b[0m\u001b[1;33m,\u001b[0m \u001b[0mnp\u001b[0m\u001b[1;33m.\u001b[0m\u001b[0masarray\u001b[0m\u001b[1;33m(\u001b[0m\u001b[0mother\u001b[0m\u001b[1;33m)\u001b[0m\u001b[1;33m)\u001b[0m\u001b[1;33m\u001b[0m\u001b[1;33m\u001b[0m\u001b[0m\n",
      "\u001b[1;31mValueError\u001b[0m: Lengths must match to compare"
     ]
    }
   ],
   "source": [
    "df[df[\"answer_lens\"] == []]"
   ]
  },
  {
   "cell_type": "code",
   "execution_count": 21,
   "metadata": {},
   "outputs": [
    {
     "data": {
      "image/png": "[encoded data removed]",
      "text/plain": [
       "<Figure size 720x720 with 1 Axes>"
      ]
     },
     "metadata": {},
     "output_type": "display_data"
    }
   ],
   "source": [
    "plot_hist(answer_lens, list(range(0, 2000, 100)), x_label=\"Answer length\", y_label=\"# of answers\")"
   ]
  },
  {
   "cell_type": "code",
   "execution_count": 22,
   "metadata": {},
   "outputs": [
    {
     "name": "stdout",
     "output_type": "stream",
     "text": [
      "Question length characteristics:\n",
      "Mean 53.90757901412917\n",
      "Max 160\n",
      "Min 5\n",
      "Std 28.424864552630556\n"
     ]
    }
   ],
   "source": [
    "question_lens = df['question_len']\n",
    "print(\"Question length characteristics:\")\n",
    "print_stats(question_lens)"
   ]
  },
  {
   "cell_type": "code",
   "execution_count": 23,
   "metadata": {},
   "outputs": [
    {
     "data": {
      "image/png": "[encoded data removed]",
      "text/plain": [
       "<Figure size 720x720 with 1 Axes>"
      ]
     },
     "metadata": {},
     "output_type": "display_data"
    }
   ],
   "source": [
    "bins = list(range(0, 150, 10))\n",
    "plot_hist(question_lens.values, bins, x_label=\"Question length\", y_label=\"# of questions\")"
   ]
  },
  {
   "cell_type": "code",
   "execution_count": 24,
   "metadata": {},
   "outputs": [
    {
     "name": "stdout",
     "output_type": "stream",
     "text": [
      "Question text length characteristics:\n",
      "Mean 503.069289313273\n",
      "Max 3000\n",
      "Min 0\n",
      "Std 454.67409731336704\n"
     ]
    }
   ],
   "source": [
    "question_text_lens = df['question_text_len']\n",
    "print(\"Question text length characteristics:\")\n",
    "print_stats(question_text_lens)"
   ]
  },
  {
   "cell_type": "code",
   "execution_count": 25,
   "metadata": {},
   "outputs": [
    {
     "data": {
      "image/png": "[encoded data removed]",
      "text/plain": [
       "<Figure size 720x720 with 1 Axes>"
      ]
     },
     "metadata": {},
     "output_type": "display_data"
    }
   ],
   "source": [
    "bins = list(range(0, 3500, 200))\n",
    "plot_hist(question_text_lens.values, bins, x_label=\"Question text length\", y_label=\"# of question texts\")"
   ]
  },
  {
   "cell_type": "code",
   "execution_count": null,
   "metadata": {},
   "outputs": [],
   "source": []
  }
 ],
 "metadata": {
  "kernelspec": {
   "display_name": "Python 3",
   "language": "python",
   "name": "python3"
  },
  "language_info": {
   "codemirror_mode": {
    "name": "ipython",
    "version": 3
   },
   "file_extension": ".py",
   "mimetype": "text/x-python",
   "name": "python",
   "nbconvert_exporter": "python",
   "pygments_lexer": "ipython3",
   "version": "3.8.5"
  }
 },
 "nbformat": 4,
 "nbformat_minor": 4
}
