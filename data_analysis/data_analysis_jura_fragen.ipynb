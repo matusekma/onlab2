{
 "cells": [
  {
   "cell_type": "code",
   "execution_count": 22,
   "metadata": {},
   "outputs": [],
   "source": [
    "import json\n",
    "import pandas as pd\n",
    "import numpy as np"
   ]
  },
  {
   "cell_type": "code",
   "execution_count": 25,
   "metadata": {},
   "outputs": [
    {
     "name": "stdout",
     "output_type": "stream",
     "text": [
      "97\n"
     ]
    }
   ],
   "source": [
    "with open('../webscraping/data/jura_fragen.json') as json_file:\n",
    "    data = json.load(json_file)\n",
    "    data = json.loads(data)\n",
    "print(len(data))\n",
    "question_num = 0\n",
    "answer_num = 0\n",
    "question_num = len(data)"
   ]
  },
  {
   "cell_type": "code",
   "execution_count": 24,
   "metadata": {},
   "outputs": [
    {
     "name": "stdout",
     "output_type": "stream",
     "text": [
      "0\n",
      "1050\n",
      "0.0\n"
     ]
    }
   ],
   "source": [
    "print(question_num)"
   ]
  },
  {
   "cell_type": "code",
   "execution_count": 9,
   "metadata": {},
   "outputs": [
    {
     "data": {
      "text/html": [
       "<div>\n",
       "<style scoped>\n",
       "    .dataframe tbody tr th:only-of-type {\n",
       "        vertical-align: middle;\n",
       "    }\n",
       "\n",
       "    .dataframe tbody tr th {\n",
       "        vertical-align: top;\n",
       "    }\n",
       "\n",
       "    .dataframe thead th {\n",
       "        text-align: right;\n",
       "    }\n",
       "</style>\n",
       "<table border=\"1\" class=\"dataframe\">\n",
       "  <thead>\n",
       "    <tr style=\"text-align: right;\">\n",
       "      <th></th>\n",
       "      <th>question</th>\n",
       "      <th>answer</th>\n",
       "      <th>url</th>\n",
       "      <th>tags</th>\n",
       "    </tr>\n",
       "  </thead>\n",
       "  <tbody>\n",
       "    <tr>\n",
       "      <td>0</td>\n",
       "      <td>Was ist der Unterschied zwischen Kommissionär,...</td>\n",
       "      <td>Das Handelsgesetzbuch kennt sowohl den Kommiss...</td>\n",
       "      <td>https://jura-fragen.de/was-ist-der-unterschied...</td>\n",
       "      <td>[handelsrecht, Handelsvertreter, HGB, Kommissi...</td>\n",
       "    </tr>\n",
       "    <tr>\n",
       "      <td>1</td>\n",
       "      <td>Welche Rechte und Pflichten hat der Mieter?</td>\n",
       "      <td>Hauptpflichten des Mieters Mieter muss Miete u...</td>\n",
       "      <td>https://jura-fragen.de/rechte-pflichten-mieter/</td>\n",
       "      <td>[gewährleistung, mietrecht, sachmängel, schade...</td>\n",
       "    </tr>\n",
       "    <tr>\n",
       "      <td>2</td>\n",
       "      <td>Wie grenze ich den Mietvertrag von Verwahrung,...</td>\n",
       "      <td>Mietvertrag ist entgeltliche Gebrauchsüberlass...</td>\n",
       "      <td>https://jura-fragen.de/abgrenzung-miete-verwah...</td>\n",
       "      <td>[Leihe, mietvertrag, Pacht, Verwahrung]</td>\n",
       "    </tr>\n",
       "    <tr>\n",
       "      <td>3</td>\n",
       "      <td>Kann ich eine Eigenkündigung anfechten?</td>\n",
       "      <td>Eine häufiger zu beobachtende Konstellation in...</td>\n",
       "      <td>https://jura-fragen.de/anfechtung-eigenkuendig...</td>\n",
       "      <td>[Anfechtung, arbeitsrecht, Eigenkündigung, Wid...</td>\n",
       "    </tr>\n",
       "    <tr>\n",
       "      <td>4</td>\n",
       "      <td>Probleme beim Zugewinnausgleich</td>\n",
       "      <td>Probleme beim Zugewinnausgleich nach einer Sch...</td>\n",
       "      <td>https://jura-fragen.de/probleme-beim-zugewinna...</td>\n",
       "      <td>[familienrecht, scheidung, zugewinnausgleich]</td>\n",
       "    </tr>\n",
       "    <tr>\n",
       "      <td>...</td>\n",
       "      <td>...</td>\n",
       "      <td>...</td>\n",
       "      <td>...</td>\n",
       "      <td>...</td>\n",
       "    </tr>\n",
       "    <tr>\n",
       "      <td>92</td>\n",
       "      <td>Was ist das Zwischenverfahren?</td>\n",
       "      <td>Das Zwischenverfahren beginnt mit Eingang der ...</td>\n",
       "      <td>https://jura-fragen.de/zwischenverfahren-straf...</td>\n",
       "      <td>[angeschuldigter, hauptverfahren, staatsanwalt...</td>\n",
       "    </tr>\n",
       "    <tr>\n",
       "      <td>93</td>\n",
       "      <td>Wie grenze ich dolus eventualis von bewusster ...</td>\n",
       "      <td>Zu einem Standardproblem des Strafrechts zählt...</td>\n",
       "      <td>https://jura-fragen.de/abgrenzung-dolus-eventu...</td>\n",
       "      <td>[dolus eventualis, vorsatz]</td>\n",
       "    </tr>\n",
       "    <tr>\n",
       "      <td>94</td>\n",
       "      <td>Wie muss das Vorverhalten bei Ingerenz ausgest...</td>\n",
       "      <td>Im Rahmen der Unterlassungsstrafbarkeit bei un...</td>\n",
       "      <td>https://jura-fragen.de/wie-muss-das-vorverhalt...</td>\n",
       "      <td>[13 StGB, 323c StGB, Aussetzung, Garantenstell...</td>\n",
       "    </tr>\n",
       "    <tr>\n",
       "      <td>95</td>\n",
       "      <td>Wann ist die Postpendenz bei der Hehlerei fest...</td>\n",
       "      <td>Die Rechtsfigur der Postpendenz ist anzuwenden...</td>\n",
       "      <td>https://jura-fragen.de/postpendenz-hehlerei-st...</td>\n",
       "      <td>[259 stgb, diebstahl, hehlerei, mittäterschaft...</td>\n",
       "    </tr>\n",
       "    <tr>\n",
       "      <td>96</td>\n",
       "      <td>Wie grenze ich den Trickdiebstahl vom Sachbetr...</td>\n",
       "      <td>Nach der h.M. stehen Diebstahl nach § 242 StGB...</td>\n",
       "      <td>https://jura-fragen.de/wie-grenze-ich-den-tric...</td>\n",
       "      <td>[betrug, diebstahl, selbstschädigungsdelikt, t...</td>\n",
       "    </tr>\n",
       "  </tbody>\n",
       "</table>\n",
       "<p>97 rows × 4 columns</p>\n",
       "</div>"
      ],
      "text/plain": [
       "                                             question  \\\n",
       "0   Was ist der Unterschied zwischen Kommissionär,...   \n",
       "1         Welche Rechte und Pflichten hat der Mieter?   \n",
       "2   Wie grenze ich den Mietvertrag von Verwahrung,...   \n",
       "3             Kann ich eine Eigenkündigung anfechten?   \n",
       "4                     Probleme beim Zugewinnausgleich   \n",
       "..                                                ...   \n",
       "92                     Was ist das Zwischenverfahren?   \n",
       "93  Wie grenze ich dolus eventualis von bewusster ...   \n",
       "94  Wie muss das Vorverhalten bei Ingerenz ausgest...   \n",
       "95  Wann ist die Postpendenz bei der Hehlerei fest...   \n",
       "96  Wie grenze ich den Trickdiebstahl vom Sachbetr...   \n",
       "\n",
       "                                               answer  \\\n",
       "0   Das Handelsgesetzbuch kennt sowohl den Kommiss...   \n",
       "1   Hauptpflichten des Mieters Mieter muss Miete u...   \n",
       "2   Mietvertrag ist entgeltliche Gebrauchsüberlass...   \n",
       "3   Eine häufiger zu beobachtende Konstellation in...   \n",
       "4   Probleme beim Zugewinnausgleich nach einer Sch...   \n",
       "..                                                ...   \n",
       "92  Das Zwischenverfahren beginnt mit Eingang der ...   \n",
       "93  Zu einem Standardproblem des Strafrechts zählt...   \n",
       "94  Im Rahmen der Unterlassungsstrafbarkeit bei un...   \n",
       "95  Die Rechtsfigur der Postpendenz ist anzuwenden...   \n",
       "96  Nach der h.M. stehen Diebstahl nach § 242 StGB...   \n",
       "\n",
       "                                                  url  \\\n",
       "0   https://jura-fragen.de/was-ist-der-unterschied...   \n",
       "1     https://jura-fragen.de/rechte-pflichten-mieter/   \n",
       "2   https://jura-fragen.de/abgrenzung-miete-verwah...   \n",
       "3   https://jura-fragen.de/anfechtung-eigenkuendig...   \n",
       "4   https://jura-fragen.de/probleme-beim-zugewinna...   \n",
       "..                                                ...   \n",
       "92  https://jura-fragen.de/zwischenverfahren-straf...   \n",
       "93  https://jura-fragen.de/abgrenzung-dolus-eventu...   \n",
       "94  https://jura-fragen.de/wie-muss-das-vorverhalt...   \n",
       "95  https://jura-fragen.de/postpendenz-hehlerei-st...   \n",
       "96  https://jura-fragen.de/wie-grenze-ich-den-tric...   \n",
       "\n",
       "                                                 tags  \n",
       "0   [handelsrecht, Handelsvertreter, HGB, Kommissi...  \n",
       "1   [gewährleistung, mietrecht, sachmängel, schade...  \n",
       "2             [Leihe, mietvertrag, Pacht, Verwahrung]  \n",
       "3   [Anfechtung, arbeitsrecht, Eigenkündigung, Wid...  \n",
       "4       [familienrecht, scheidung, zugewinnausgleich]  \n",
       "..                                                ...  \n",
       "92  [angeschuldigter, hauptverfahren, staatsanwalt...  \n",
       "93                        [dolus eventualis, vorsatz]  \n",
       "94  [13 StGB, 323c StGB, Aussetzung, Garantenstell...  \n",
       "95  [259 stgb, diebstahl, hehlerei, mittäterschaft...  \n",
       "96  [betrug, diebstahl, selbstschädigungsdelikt, t...  \n",
       "\n",
       "[97 rows x 4 columns]"
      ]
     },
     "execution_count": 9,
     "metadata": {},
     "output_type": "execute_result"
    }
   ],
   "source": [
    "df = pd.DataFrame(data, columns =['question', 'answer','url', ''])  \n",
    "df"
   ]
  },
  {
   "cell_type": "code",
   "execution_count": 13,
   "metadata": {},
   "outputs": [],
   "source": [
    "df[\"answer_len\"] = df[\"answer\"].apply(lambda answer: len(answer))"
   ]
  },
  {
   "cell_type": "code",
   "execution_count": 11,
   "metadata": {},
   "outputs": [],
   "source": [
    "df[\"question_len\"] = df[\"question\"].apply(lambda question: len(question))"
   ]
  },
  {
   "cell_type": "code",
   "execution_count": 14,
   "metadata": {},
   "outputs": [
    {
     "data": {
      "text/html": [
       "<div>\n",
       "<style scoped>\n",
       "    .dataframe tbody tr th:only-of-type {\n",
       "        vertical-align: middle;\n",
       "    }\n",
       "\n",
       "    .dataframe tbody tr th {\n",
       "        vertical-align: top;\n",
       "    }\n",
       "\n",
       "    .dataframe thead th {\n",
       "        text-align: right;\n",
       "    }\n",
       "</style>\n",
       "<table border=\"1\" class=\"dataframe\">\n",
       "  <thead>\n",
       "    <tr style=\"text-align: right;\">\n",
       "      <th></th>\n",
       "      <th>question</th>\n",
       "      <th>answer</th>\n",
       "      <th>url</th>\n",
       "      <th>tags</th>\n",
       "      <th>answer_lens</th>\n",
       "      <th>question_len</th>\n",
       "      <th>answer_len</th>\n",
       "    </tr>\n",
       "  </thead>\n",
       "  <tbody>\n",
       "    <tr>\n",
       "      <td>0</td>\n",
       "      <td>Was ist der Unterschied zwischen Kommissionär,...</td>\n",
       "      <td>Das Handelsgesetzbuch kennt sowohl den Kommiss...</td>\n",
       "      <td>https://jura-fragen.de/was-ist-der-unterschied...</td>\n",
       "      <td>[handelsrecht, Handelsvertreter, HGB, Kommissi...</td>\n",
       "      <td>1704</td>\n",
       "      <td>85</td>\n",
       "      <td>1704</td>\n",
       "    </tr>\n",
       "    <tr>\n",
       "      <td>1</td>\n",
       "      <td>Welche Rechte und Pflichten hat der Mieter?</td>\n",
       "      <td>Hauptpflichten des Mieters Mieter muss Miete u...</td>\n",
       "      <td>https://jura-fragen.de/rechte-pflichten-mieter/</td>\n",
       "      <td>[gewährleistung, mietrecht, sachmängel, schade...</td>\n",
       "      <td>4027</td>\n",
       "      <td>43</td>\n",
       "      <td>4027</td>\n",
       "    </tr>\n",
       "    <tr>\n",
       "      <td>2</td>\n",
       "      <td>Wie grenze ich den Mietvertrag von Verwahrung,...</td>\n",
       "      <td>Mietvertrag ist entgeltliche Gebrauchsüberlass...</td>\n",
       "      <td>https://jura-fragen.de/abgrenzung-miete-verwah...</td>\n",
       "      <td>[Leihe, mietvertrag, Pacht, Verwahrung]</td>\n",
       "      <td>761</td>\n",
       "      <td>66</td>\n",
       "      <td>761</td>\n",
       "    </tr>\n",
       "    <tr>\n",
       "      <td>3</td>\n",
       "      <td>Kann ich eine Eigenkündigung anfechten?</td>\n",
       "      <td>Eine häufiger zu beobachtende Konstellation in...</td>\n",
       "      <td>https://jura-fragen.de/anfechtung-eigenkuendig...</td>\n",
       "      <td>[Anfechtung, arbeitsrecht, Eigenkündigung, Wid...</td>\n",
       "      <td>4025</td>\n",
       "      <td>39</td>\n",
       "      <td>4025</td>\n",
       "    </tr>\n",
       "    <tr>\n",
       "      <td>4</td>\n",
       "      <td>Probleme beim Zugewinnausgleich</td>\n",
       "      <td>Probleme beim Zugewinnausgleich nach einer Sch...</td>\n",
       "      <td>https://jura-fragen.de/probleme-beim-zugewinna...</td>\n",
       "      <td>[familienrecht, scheidung, zugewinnausgleich]</td>\n",
       "      <td>4198</td>\n",
       "      <td>31</td>\n",
       "      <td>4198</td>\n",
       "    </tr>\n",
       "    <tr>\n",
       "      <td>...</td>\n",
       "      <td>...</td>\n",
       "      <td>...</td>\n",
       "      <td>...</td>\n",
       "      <td>...</td>\n",
       "      <td>...</td>\n",
       "      <td>...</td>\n",
       "      <td>...</td>\n",
       "    </tr>\n",
       "    <tr>\n",
       "      <td>92</td>\n",
       "      <td>Was ist das Zwischenverfahren?</td>\n",
       "      <td>Das Zwischenverfahren beginnt mit Eingang der ...</td>\n",
       "      <td>https://jura-fragen.de/zwischenverfahren-straf...</td>\n",
       "      <td>[angeschuldigter, hauptverfahren, staatsanwalt...</td>\n",
       "      <td>1149</td>\n",
       "      <td>30</td>\n",
       "      <td>1149</td>\n",
       "    </tr>\n",
       "    <tr>\n",
       "      <td>93</td>\n",
       "      <td>Wie grenze ich dolus eventualis von bewusster ...</td>\n",
       "      <td>Zu einem Standardproblem des Strafrechts zählt...</td>\n",
       "      <td>https://jura-fragen.de/abgrenzung-dolus-eventu...</td>\n",
       "      <td>[dolus eventualis, vorsatz]</td>\n",
       "      <td>2050</td>\n",
       "      <td>64</td>\n",
       "      <td>2050</td>\n",
       "    </tr>\n",
       "    <tr>\n",
       "      <td>94</td>\n",
       "      <td>Wie muss das Vorverhalten bei Ingerenz ausgest...</td>\n",
       "      <td>Im Rahmen der Unterlassungsstrafbarkeit bei un...</td>\n",
       "      <td>https://jura-fragen.de/wie-muss-das-vorverhalt...</td>\n",
       "      <td>[13 StGB, 323c StGB, Aussetzung, Garantenstell...</td>\n",
       "      <td>995</td>\n",
       "      <td>57</td>\n",
       "      <td>995</td>\n",
       "    </tr>\n",
       "    <tr>\n",
       "      <td>95</td>\n",
       "      <td>Wann ist die Postpendenz bei der Hehlerei fest...</td>\n",
       "      <td>Die Rechtsfigur der Postpendenz ist anzuwenden...</td>\n",
       "      <td>https://jura-fragen.de/postpendenz-hehlerei-st...</td>\n",
       "      <td>[259 stgb, diebstahl, hehlerei, mittäterschaft...</td>\n",
       "      <td>1657</td>\n",
       "      <td>56</td>\n",
       "      <td>1657</td>\n",
       "    </tr>\n",
       "    <tr>\n",
       "      <td>96</td>\n",
       "      <td>Wie grenze ich den Trickdiebstahl vom Sachbetr...</td>\n",
       "      <td>Nach der h.M. stehen Diebstahl nach § 242 StGB...</td>\n",
       "      <td>https://jura-fragen.de/wie-grenze-ich-den-tric...</td>\n",
       "      <td>[betrug, diebstahl, selbstschädigungsdelikt, t...</td>\n",
       "      <td>2203</td>\n",
       "      <td>52</td>\n",
       "      <td>2203</td>\n",
       "    </tr>\n",
       "  </tbody>\n",
       "</table>\n",
       "<p>97 rows × 7 columns</p>\n",
       "</div>"
      ],
      "text/plain": [
       "                                             question  \\\n",
       "0   Was ist der Unterschied zwischen Kommissionär,...   \n",
       "1         Welche Rechte und Pflichten hat der Mieter?   \n",
       "2   Wie grenze ich den Mietvertrag von Verwahrung,...   \n",
       "3             Kann ich eine Eigenkündigung anfechten?   \n",
       "4                     Probleme beim Zugewinnausgleich   \n",
       "..                                                ...   \n",
       "92                     Was ist das Zwischenverfahren?   \n",
       "93  Wie grenze ich dolus eventualis von bewusster ...   \n",
       "94  Wie muss das Vorverhalten bei Ingerenz ausgest...   \n",
       "95  Wann ist die Postpendenz bei der Hehlerei fest...   \n",
       "96  Wie grenze ich den Trickdiebstahl vom Sachbetr...   \n",
       "\n",
       "                                               answer  \\\n",
       "0   Das Handelsgesetzbuch kennt sowohl den Kommiss...   \n",
       "1   Hauptpflichten des Mieters Mieter muss Miete u...   \n",
       "2   Mietvertrag ist entgeltliche Gebrauchsüberlass...   \n",
       "3   Eine häufiger zu beobachtende Konstellation in...   \n",
       "4   Probleme beim Zugewinnausgleich nach einer Sch...   \n",
       "..                                                ...   \n",
       "92  Das Zwischenverfahren beginnt mit Eingang der ...   \n",
       "93  Zu einem Standardproblem des Strafrechts zählt...   \n",
       "94  Im Rahmen der Unterlassungsstrafbarkeit bei un...   \n",
       "95  Die Rechtsfigur der Postpendenz ist anzuwenden...   \n",
       "96  Nach der h.M. stehen Diebstahl nach § 242 StGB...   \n",
       "\n",
       "                                                  url  \\\n",
       "0   https://jura-fragen.de/was-ist-der-unterschied...   \n",
       "1     https://jura-fragen.de/rechte-pflichten-mieter/   \n",
       "2   https://jura-fragen.de/abgrenzung-miete-verwah...   \n",
       "3   https://jura-fragen.de/anfechtung-eigenkuendig...   \n",
       "4   https://jura-fragen.de/probleme-beim-zugewinna...   \n",
       "..                                                ...   \n",
       "92  https://jura-fragen.de/zwischenverfahren-straf...   \n",
       "93  https://jura-fragen.de/abgrenzung-dolus-eventu...   \n",
       "94  https://jura-fragen.de/wie-muss-das-vorverhalt...   \n",
       "95  https://jura-fragen.de/postpendenz-hehlerei-st...   \n",
       "96  https://jura-fragen.de/wie-grenze-ich-den-tric...   \n",
       "\n",
       "                                                 tags  answer_lens  \\\n",
       "0   [handelsrecht, Handelsvertreter, HGB, Kommissi...         1704   \n",
       "1   [gewährleistung, mietrecht, sachmängel, schade...         4027   \n",
       "2             [Leihe, mietvertrag, Pacht, Verwahrung]          761   \n",
       "3   [Anfechtung, arbeitsrecht, Eigenkündigung, Wid...         4025   \n",
       "4       [familienrecht, scheidung, zugewinnausgleich]         4198   \n",
       "..                                                ...          ...   \n",
       "92  [angeschuldigter, hauptverfahren, staatsanwalt...         1149   \n",
       "93                        [dolus eventualis, vorsatz]         2050   \n",
       "94  [13 StGB, 323c StGB, Aussetzung, Garantenstell...          995   \n",
       "95  [259 stgb, diebstahl, hehlerei, mittäterschaft...         1657   \n",
       "96  [betrug, diebstahl, selbstschädigungsdelikt, t...         2203   \n",
       "\n",
       "    question_len  answer_len  \n",
       "0             85        1704  \n",
       "1             43        4027  \n",
       "2             66         761  \n",
       "3             39        4025  \n",
       "4             31        4198  \n",
       "..           ...         ...  \n",
       "92            30        1149  \n",
       "93            64        2050  \n",
       "94            57         995  \n",
       "95            56        1657  \n",
       "96            52        2203  \n",
       "\n",
       "[97 rows x 7 columns]"
      ]
     },
     "execution_count": 14,
     "metadata": {},
     "output_type": "execute_result"
    }
   ],
   "source": [
    "df"
   ]
  },
  {
   "cell_type": "code",
   "execution_count": 15,
   "metadata": {},
   "outputs": [],
   "source": [
    "import matplotlib.pyplot as plt\n",
    "def plot_hist(data, bins, x_label=\"\", y_label=\"\"):\n",
    "    plt.figure(num=None, figsize=(10, 10), facecolor='w', edgecolor='k')\n",
    "\n",
    "    plt.hist(data, bins=bins, edgecolor=\"k\")\n",
    "    plt.xticks(bins)\n",
    "    plt.xlabel(x_label)\n",
    "    plt.ylabel(y_label)\n",
    "    plt.show()"
   ]
  },
  {
   "cell_type": "code",
   "execution_count": 16,
   "metadata": {},
   "outputs": [],
   "source": [
    "def print_stats(data):\n",
    "    print(\"Mean\", np.mean(data))\n",
    "    print(\"Max\", np.max(data))\n",
    "    print(\"Min\", np.min(data))\n",
    "    print(\"Std\", np.std(data))"
   ]
  },
  {
   "cell_type": "code",
   "execution_count": 18,
   "metadata": {},
   "outputs": [
    {
     "name": "stdout",
     "output_type": "stream",
     "text": [
      "Answer length characteristics:\n",
      "Mean 2017.7628865979382\n",
      "Max 6651\n",
      "Min 232\n",
      "Std 1373.4492569086808\n"
     ]
    }
   ],
   "source": [
    "print(\"Answer length characteristics:\")\n",
    "print_stats(df[\"answer_len\"])"
   ]
  },
  {
   "cell_type": "code",
   "execution_count": 19,
   "metadata": {},
   "outputs": [
    {
     "data": {
      "image/png": "[encoded data removed]",
      "text/plain": [
       "<Figure size 720x720 with 1 Axes>"
      ]
     },
     "metadata": {},
     "output_type": "display_data"
    }
   ],
   "source": [
    "plot_hist(df[\"answer_len\"], list(range(0, 2000, 100)), x_label=\"Answer length\", y_label=\"# of answers\")"
   ]
  },
  {
   "cell_type": "code",
   "execution_count": 20,
   "metadata": {},
   "outputs": [
    {
     "name": "stdout",
     "output_type": "stream",
     "text": [
      "Question length characteristics:\n",
      "Mean 51.05154639175258\n",
      "Max 93\n",
      "Min 16\n",
      "Std 17.164679109988587\n"
     ]
    }
   ],
   "source": [
    "question_lens = df['question_len']\n",
    "print(\"Question length characteristics:\")\n",
    "print_stats(question_lens)"
   ]
  },
  {
   "cell_type": "code",
   "execution_count": 21,
   "metadata": {},
   "outputs": [
    {
     "data": {
      "image/png": "[encoded data removed]",
      "text/plain": [
       "<Figure size 720x720 with 1 Axes>"
      ]
     },
     "metadata": {},
     "output_type": "display_data"
    }
   ],
   "source": [
    "bins = list(range(0, 150, 10))\n",
    "plot_hist(question_lens.values, bins, x_label=\"Question length\", y_label=\"# of questions\")"
   ]
  },
  {
   "cell_type": "code",
   "execution_count": 144,
   "metadata": {},
   "outputs": [
    {
     "name": "stdout",
     "output_type": "stream",
     "text": [
      "Question text length characteristics:\n",
      "Mean 503.3174312246893\n",
      "Max 3000\n",
      "Min 0\n",
      "Std 454.968622124977\n"
     ]
    }
   ],
   "source": [
    "question_text_lens = df['question_text_len']\n",
    "print(\"Question text length characteristics:\")\n",
    "print_stats(question_text_lens)"
   ]
  },
  {
   "cell_type": "code",
   "execution_count": 145,
   "metadata": {},
   "outputs": [
    {
     "data": {
      "image/png": "[encoded data removed]",
      "text/plain": [
       "<Figure size 720x720 with 1 Axes>"
      ]
     },
     "metadata": {},
     "output_type": "display_data"
    }
   ],
   "source": [
    "bins = list(range(0, 3500, 200))\n",
    "plot_hist(question_text_lens.values, bins, x_label=\"Question text length\", y_label=\"# of question texts\")"
   ]
  },
  {
   "cell_type": "code",
   "execution_count": null,
   "metadata": {},
   "outputs": [],
   "source": []
  }
 ],
 "metadata": {
  "kernelspec": {
   "display_name": "Python 3",
   "language": "python",
   "name": "python3"
  },
  "language_info": {
   "codemirror_mode": {
    "name": "ipython",
    "version": 3
   },
   "file_extension": ".py",
   "mimetype": "text/x-python",
   "name": "python",
   "nbconvert_exporter": "python",
   "pygments_lexer": "ipython3",
   "version": "3.7.4"
  }
 },
 "nbformat": 4,
 "nbformat_minor": 4
}
