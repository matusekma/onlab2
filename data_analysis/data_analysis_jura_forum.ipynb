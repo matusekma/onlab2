{
 "cells": [
  {
   "cell_type": "code",
   "execution_count": 1,
   "metadata": {},
   "outputs": [],
   "source": [
    "import json\n",
    "import pandas as pd\n",
    "import numpy as np"
   ]
  },
  {
   "cell_type": "code",
   "execution_count": 4,
   "metadata": {},
   "outputs": [
    {
     "name": "stdout",
     "output_type": "stream",
     "text": [
      "1050\n"
     ]
    }
   ],
   "source": [
    "with open('../webscraping/data/jura_forum_1599411154273.json') as json_file:\n",
    "    data = json.load(json_file)\n",
    "print(len(data))\n",
    "question_num = len(data)"
   ]
  },
  {
   "cell_type": "code",
   "execution_count": 5,
   "metadata": {},
   "outputs": [
    {
     "name": "stdout",
     "output_type": "stream",
     "text": [
      "1050\n"
     ]
    }
   ],
   "source": [
    "print(question_num)"
   ]
  },
  {
   "cell_type": "code",
   "execution_count": 6,
   "metadata": {},
   "outputs": [
    {
     "data": {
      "text/html": [
       "<div>\n",
       "<style scoped>\n",
       "    .dataframe tbody tr th:only-of-type {\n",
       "        vertical-align: middle;\n",
       "    }\n",
       "\n",
       "    .dataframe tbody tr th {\n",
       "        vertical-align: top;\n",
       "    }\n",
       "\n",
       "    .dataframe thead th {\n",
       "        text-align: right;\n",
       "    }\n",
       "</style>\n",
       "<table border=\"1\" class=\"dataframe\">\n",
       "  <thead>\n",
       "    <tr style=\"text-align: right;\">\n",
       "      <th></th>\n",
       "      <th>question</th>\n",
       "      <th>answer</th>\n",
       "      <th>tags</th>\n",
       "    </tr>\n",
       "  </thead>\n",
       "  <tbody>\n",
       "    <tr>\n",
       "      <td>0</td>\n",
       "      <td>Werkverträge und Leiharbeit in der Fleischindu...</td>\n",
       "      <td>Werkverträge und Leiharbeit in der Fleischindu...</td>\n",
       "      <td>[Werkverträge, Leiharbeit, Verbot, Fleischindu...</td>\n",
       "    </tr>\n",
       "    <tr>\n",
       "      <td>1</td>\n",
       "      <td>Zur Wirksamkeit einer Rückzahlungsvereinbarung...</td>\n",
       "      <td>Weiterbildung ist ein Grundbestandteil der Per...</td>\n",
       "      <td>[Fortbildungskosten, Rückzahlungsvereinbarung]</td>\n",
       "    </tr>\n",
       "    <tr>\n",
       "      <td>2</td>\n",
       "      <td>Was Arbeitgeber dürfen, um den Arbeitnehmer zu...</td>\n",
       "      <td>Bei der Beendigung eines Arbeitsverhältnisses ...</td>\n",
       "      <td>[Beschäftigungsanspruch, Verhandlungstaktik]</td>\n",
       "    </tr>\n",
       "    <tr>\n",
       "      <td>3</td>\n",
       "      <td>Corona: Droht eine Welle von betriebsbedingten...</td>\n",
       "      <td>Corona: Droht eine Welle von betriebsbedingten...</td>\n",
       "      <td>[Corona, Kündigung, betriebsbedingt, Entlassun...</td>\n",
       "    </tr>\n",
       "    <tr>\n",
       "      <td>4</td>\n",
       "      <td>Beschäftigungsverhältnisse mit Sportlern, Trai...</td>\n",
       "      <td>Das Sportarbeitsrecht ist ebenfalls eine spezi...</td>\n",
       "      <td>[Arbeitsrecht, Sportarbeitsrecht, Sportrecht]</td>\n",
       "    </tr>\n",
       "    <tr>\n",
       "      <td>...</td>\n",
       "      <td>...</td>\n",
       "      <td>...</td>\n",
       "      <td>...</td>\n",
       "    </tr>\n",
       "    <tr>\n",
       "      <td>1045</td>\n",
       "      <td>Gesamtbetriebsrat muss trotz Corona-Pandemie k...</td>\n",
       "      <td>Berlin (jur). Auch im Zuge der Corona-Pandemie...</td>\n",
       "      <td>[]</td>\n",
       "    </tr>\n",
       "    <tr>\n",
       "      <td>1046</td>\n",
       "      <td>„Corona-Helden“ können keine Gratisbrillen bek...</td>\n",
       "      <td>Stuttgart (jur). Optiker dürfen keine kostenlo...</td>\n",
       "      <td>[]</td>\n",
       "    </tr>\n",
       "    <tr>\n",
       "      <td>1047</td>\n",
       "      <td>Wegen problematischer Kontaktverfolgung bleibe...</td>\n",
       "      <td>Koblenz (jur). Bordelle müssen aufgrund der Sc...</td>\n",
       "      <td>[]</td>\n",
       "    </tr>\n",
       "    <tr>\n",
       "      <td>1048</td>\n",
       "      <td>Schüler muss nach Widerspruch vorerst keine Ma...</td>\n",
       "      <td>Schleswig (jur). Wenn Schulen Regelungen zur M...</td>\n",
       "      <td>[]</td>\n",
       "    </tr>\n",
       "    <tr>\n",
       "      <td>1049</td>\n",
       "      <td>Kein Rechtsanspruch auf Maskenpflicht im Unter...</td>\n",
       "      <td>Hamburg/Berlin (jur). Schüler müssen im Schulu...</td>\n",
       "      <td>[]</td>\n",
       "    </tr>\n",
       "  </tbody>\n",
       "</table>\n",
       "<p>1050 rows × 3 columns</p>\n",
       "</div>"
      ],
      "text/plain": [
       "                                               question  \\\n",
       "0     Werkverträge und Leiharbeit in der Fleischindu...   \n",
       "1     Zur Wirksamkeit einer Rückzahlungsvereinbarung...   \n",
       "2     Was Arbeitgeber dürfen, um den Arbeitnehmer zu...   \n",
       "3     Corona: Droht eine Welle von betriebsbedingten...   \n",
       "4     Beschäftigungsverhältnisse mit Sportlern, Trai...   \n",
       "...                                                 ...   \n",
       "1045  Gesamtbetriebsrat muss trotz Corona-Pandemie k...   \n",
       "1046  „Corona-Helden“ können keine Gratisbrillen bek...   \n",
       "1047  Wegen problematischer Kontaktverfolgung bleibe...   \n",
       "1048  Schüler muss nach Widerspruch vorerst keine Ma...   \n",
       "1049  Kein Rechtsanspruch auf Maskenpflicht im Unter...   \n",
       "\n",
       "                                                 answer  \\\n",
       "0     Werkverträge und Leiharbeit in der Fleischindu...   \n",
       "1     Weiterbildung ist ein Grundbestandteil der Per...   \n",
       "2     Bei der Beendigung eines Arbeitsverhältnisses ...   \n",
       "3     Corona: Droht eine Welle von betriebsbedingten...   \n",
       "4     Das Sportarbeitsrecht ist ebenfalls eine spezi...   \n",
       "...                                                 ...   \n",
       "1045  Berlin (jur). Auch im Zuge der Corona-Pandemie...   \n",
       "1046  Stuttgart (jur). Optiker dürfen keine kostenlo...   \n",
       "1047  Koblenz (jur). Bordelle müssen aufgrund der Sc...   \n",
       "1048  Schleswig (jur). Wenn Schulen Regelungen zur M...   \n",
       "1049  Hamburg/Berlin (jur). Schüler müssen im Schulu...   \n",
       "\n",
       "                                                   tags  \n",
       "0     [Werkverträge, Leiharbeit, Verbot, Fleischindu...  \n",
       "1        [Fortbildungskosten, Rückzahlungsvereinbarung]  \n",
       "2          [Beschäftigungsanspruch, Verhandlungstaktik]  \n",
       "3     [Corona, Kündigung, betriebsbedingt, Entlassun...  \n",
       "4         [Arbeitsrecht, Sportarbeitsrecht, Sportrecht]  \n",
       "...                                                 ...  \n",
       "1045                                                 []  \n",
       "1046                                                 []  \n",
       "1047                                                 []  \n",
       "1048                                                 []  \n",
       "1049                                                 []  \n",
       "\n",
       "[1050 rows x 3 columns]"
      ]
     },
     "execution_count": 6,
     "metadata": {},
     "output_type": "execute_result"
    }
   ],
   "source": [
    "df = pd.DataFrame(data, columns =['question', 'answer', 'tags'])  \n",
    "df"
   ]
  },
  {
   "cell_type": "code",
   "execution_count": 7,
   "metadata": {},
   "outputs": [],
   "source": [
    "df[\"answer_len\"] = df[\"answer\"].apply(lambda answer: len(answer))"
   ]
  },
  {
   "cell_type": "code",
   "execution_count": 8,
   "metadata": {},
   "outputs": [],
   "source": [
    "df[\"question_len\"] = df[\"question\"].apply(lambda question: len(question))"
   ]
  },
  {
   "cell_type": "code",
   "execution_count": 11,
   "metadata": {},
   "outputs": [
    {
     "data": {
      "text/html": [
       "<div>\n",
       "<style scoped>\n",
       "    .dataframe tbody tr th:only-of-type {\n",
       "        vertical-align: middle;\n",
       "    }\n",
       "\n",
       "    .dataframe tbody tr th {\n",
       "        vertical-align: top;\n",
       "    }\n",
       "\n",
       "    .dataframe thead th {\n",
       "        text-align: right;\n",
       "    }\n",
       "</style>\n",
       "<table border=\"1\" class=\"dataframe\">\n",
       "  <thead>\n",
       "    <tr style=\"text-align: right;\">\n",
       "      <th></th>\n",
       "      <th>question</th>\n",
       "      <th>answer</th>\n",
       "      <th>tags</th>\n",
       "      <th>answer_len</th>\n",
       "      <th>question_len</th>\n",
       "    </tr>\n",
       "  </thead>\n",
       "  <tbody>\n",
       "    <tr>\n",
       "      <td>0</td>\n",
       "      <td>Werkverträge und Leiharbeit in der Fleischindu...</td>\n",
       "      <td>Werkverträge und Leiharbeit in der Fleischindu...</td>\n",
       "      <td>[Werkverträge, Leiharbeit, Verbot, Fleischindu...</td>\n",
       "      <td>3783</td>\n",
       "      <td>81</td>\n",
       "    </tr>\n",
       "    <tr>\n",
       "      <td>1</td>\n",
       "      <td>Zur Wirksamkeit einer Rückzahlungsvereinbarung...</td>\n",
       "      <td>Weiterbildung ist ein Grundbestandteil der Per...</td>\n",
       "      <td>[Fortbildungskosten, Rückzahlungsvereinbarung]</td>\n",
       "      <td>5633</td>\n",
       "      <td>70</td>\n",
       "    </tr>\n",
       "    <tr>\n",
       "      <td>2</td>\n",
       "      <td>Was Arbeitgeber dürfen, um den Arbeitnehmer zu...</td>\n",
       "      <td>Bei der Beendigung eines Arbeitsverhältnisses ...</td>\n",
       "      <td>[Beschäftigungsanspruch, Verhandlungstaktik]</td>\n",
       "      <td>2047</td>\n",
       "      <td>121</td>\n",
       "    </tr>\n",
       "    <tr>\n",
       "      <td>3</td>\n",
       "      <td>Corona: Droht eine Welle von betriebsbedingten...</td>\n",
       "      <td>Corona: Droht eine Welle von betriebsbedingten...</td>\n",
       "      <td>[Corona, Kündigung, betriebsbedingt, Entlassun...</td>\n",
       "      <td>4680</td>\n",
       "      <td>59</td>\n",
       "    </tr>\n",
       "    <tr>\n",
       "      <td>4</td>\n",
       "      <td>Beschäftigungsverhältnisse mit Sportlern, Trai...</td>\n",
       "      <td>Das Sportarbeitsrecht ist ebenfalls eine spezi...</td>\n",
       "      <td>[Arbeitsrecht, Sportarbeitsrecht, Sportrecht]</td>\n",
       "      <td>3206</td>\n",
       "      <td>63</td>\n",
       "    </tr>\n",
       "    <tr>\n",
       "      <td>...</td>\n",
       "      <td>...</td>\n",
       "      <td>...</td>\n",
       "      <td>...</td>\n",
       "      <td>...</td>\n",
       "      <td>...</td>\n",
       "    </tr>\n",
       "    <tr>\n",
       "      <td>1045</td>\n",
       "      <td>Gesamtbetriebsrat muss trotz Corona-Pandemie k...</td>\n",
       "      <td>Berlin (jur). Auch im Zuge der Corona-Pandemie...</td>\n",
       "      <td>[]</td>\n",
       "      <td>2159</td>\n",
       "      <td>74</td>\n",
       "    </tr>\n",
       "    <tr>\n",
       "      <td>1046</td>\n",
       "      <td>„Corona-Helden“ können keine Gratisbrillen bek...</td>\n",
       "      <td>Stuttgart (jur). Optiker dürfen keine kostenlo...</td>\n",
       "      <td>[]</td>\n",
       "      <td>1882</td>\n",
       "      <td>51</td>\n",
       "    </tr>\n",
       "    <tr>\n",
       "      <td>1047</td>\n",
       "      <td>Wegen problematischer Kontaktverfolgung bleibe...</td>\n",
       "      <td>Koblenz (jur). Bordelle müssen aufgrund der Sc...</td>\n",
       "      <td>[]</td>\n",
       "      <td>1879</td>\n",
       "      <td>68</td>\n",
       "    </tr>\n",
       "    <tr>\n",
       "      <td>1048</td>\n",
       "      <td>Schüler muss nach Widerspruch vorerst keine Ma...</td>\n",
       "      <td>Schleswig (jur). Wenn Schulen Regelungen zur M...</td>\n",
       "      <td>[]</td>\n",
       "      <td>2201</td>\n",
       "      <td>56</td>\n",
       "    </tr>\n",
       "    <tr>\n",
       "      <td>1049</td>\n",
       "      <td>Kein Rechtsanspruch auf Maskenpflicht im Unter...</td>\n",
       "      <td>Hamburg/Berlin (jur). Schüler müssen im Schulu...</td>\n",
       "      <td>[]</td>\n",
       "      <td>3862</td>\n",
       "      <td>51</td>\n",
       "    </tr>\n",
       "  </tbody>\n",
       "</table>\n",
       "<p>1050 rows × 5 columns</p>\n",
       "</div>"
      ],
      "text/plain": [
       "                                               question  \\\n",
       "0     Werkverträge und Leiharbeit in der Fleischindu...   \n",
       "1     Zur Wirksamkeit einer Rückzahlungsvereinbarung...   \n",
       "2     Was Arbeitgeber dürfen, um den Arbeitnehmer zu...   \n",
       "3     Corona: Droht eine Welle von betriebsbedingten...   \n",
       "4     Beschäftigungsverhältnisse mit Sportlern, Trai...   \n",
       "...                                                 ...   \n",
       "1045  Gesamtbetriebsrat muss trotz Corona-Pandemie k...   \n",
       "1046  „Corona-Helden“ können keine Gratisbrillen bek...   \n",
       "1047  Wegen problematischer Kontaktverfolgung bleibe...   \n",
       "1048  Schüler muss nach Widerspruch vorerst keine Ma...   \n",
       "1049  Kein Rechtsanspruch auf Maskenpflicht im Unter...   \n",
       "\n",
       "                                                 answer  \\\n",
       "0     Werkverträge und Leiharbeit in der Fleischindu...   \n",
       "1     Weiterbildung ist ein Grundbestandteil der Per...   \n",
       "2     Bei der Beendigung eines Arbeitsverhältnisses ...   \n",
       "3     Corona: Droht eine Welle von betriebsbedingten...   \n",
       "4     Das Sportarbeitsrecht ist ebenfalls eine spezi...   \n",
       "...                                                 ...   \n",
       "1045  Berlin (jur). Auch im Zuge der Corona-Pandemie...   \n",
       "1046  Stuttgart (jur). Optiker dürfen keine kostenlo...   \n",
       "1047  Koblenz (jur). Bordelle müssen aufgrund der Sc...   \n",
       "1048  Schleswig (jur). Wenn Schulen Regelungen zur M...   \n",
       "1049  Hamburg/Berlin (jur). Schüler müssen im Schulu...   \n",
       "\n",
       "                                                   tags  answer_len  \\\n",
       "0     [Werkverträge, Leiharbeit, Verbot, Fleischindu...        3783   \n",
       "1        [Fortbildungskosten, Rückzahlungsvereinbarung]        5633   \n",
       "2          [Beschäftigungsanspruch, Verhandlungstaktik]        2047   \n",
       "3     [Corona, Kündigung, betriebsbedingt, Entlassun...        4680   \n",
       "4         [Arbeitsrecht, Sportarbeitsrecht, Sportrecht]        3206   \n",
       "...                                                 ...         ...   \n",
       "1045                                                 []        2159   \n",
       "1046                                                 []        1882   \n",
       "1047                                                 []        1879   \n",
       "1048                                                 []        2201   \n",
       "1049                                                 []        3862   \n",
       "\n",
       "      question_len  \n",
       "0               81  \n",
       "1               70  \n",
       "2              121  \n",
       "3               59  \n",
       "4               63  \n",
       "...            ...  \n",
       "1045            74  \n",
       "1046            51  \n",
       "1047            68  \n",
       "1048            56  \n",
       "1049            51  \n",
       "\n",
       "[1050 rows x 5 columns]"
      ]
     },
     "execution_count": 11,
     "metadata": {},
     "output_type": "execute_result"
    }
   ],
   "source": [
    "df"
   ]
  },
  {
   "cell_type": "code",
   "execution_count": 12,
   "metadata": {},
   "outputs": [],
   "source": [
    "import matplotlib.pyplot as plt\n",
    "def plot_hist(data, bins, x_label=\"\", y_label=\"\"):\n",
    "    plt.figure(num=None, figsize=(10, 10), facecolor='w', edgecolor='k')\n",
    "\n",
    "    plt.hist(data, bins=bins, edgecolor=\"k\")\n",
    "    plt.xticks(bins)\n",
    "    plt.xlabel(x_label)\n",
    "    plt.ylabel(y_label)\n",
    "    plt.show()"
   ]
  },
  {
   "cell_type": "code",
   "execution_count": 13,
   "metadata": {},
   "outputs": [],
   "source": [
    "def print_stats(data):\n",
    "    print(\"Mean\", np.mean(data))\n",
    "    print(\"Max\", np.max(data))\n",
    "    print(\"Min\", np.min(data))\n",
    "    print(\"Std\", np.std(data))"
   ]
  },
  {
   "cell_type": "code",
   "execution_count": 15,
   "metadata": {},
   "outputs": [
    {
     "name": "stdout",
     "output_type": "stream",
     "text": [
      "Answer length characteristics:\n",
      "Mean 4034.592380952381\n",
      "Max 42925\n",
      "Min 631\n",
      "Std 3069.187740155839\n"
     ]
    }
   ],
   "source": [
    "print(\"Answer length characteristics:\")\n",
    "print_stats(df[\"answer_len\"])"
   ]
  },
  {
   "cell_type": "code",
   "execution_count": 17,
   "metadata": {},
   "outputs": [
    {
     "data": {
      "image/png": "[encoded data removed]",
      "text/plain": [
       "<Figure size 720x720 with 1 Axes>"
      ]
     },
     "metadata": {},
     "output_type": "display_data"
    }
   ],
   "source": [
    "plot_hist(df[\"answer_len\"], list(range(0, 20000, 100)), x_label=\"Answer length\", y_label=\"# of answers\")"
   ]
  },
  {
   "cell_type": "code",
   "execution_count": 18,
   "metadata": {},
   "outputs": [
    {
     "name": "stdout",
     "output_type": "stream",
     "text": [
      "Question length characteristics:\n",
      "Mean 60.486666666666665\n",
      "Max 200\n",
      "Min 11\n",
      "Std 22.45007823368132\n"
     ]
    }
   ],
   "source": [
    "question_lens = df['question_len']\n",
    "print(\"Question length characteristics:\")\n",
    "print_stats(question_lens)"
   ]
  },
  {
   "cell_type": "code",
   "execution_count": 143,
   "metadata": {},
   "outputs": [
    {
     "data": {
      "image/png": "[encoded data removed]",
      "text/plain": [
       "<Figure size 720x720 with 1 Axes>"
      ]
     },
     "metadata": {},
     "output_type": "display_data"
    }
   ],
   "source": [
    "bins = list(range(0, 150, 10))\n",
    "plot_hist(question_lens.values, bins, x_label=\"Question length\", y_label=\"# of questions\")"
   ]
  },
  {
   "cell_type": "code",
   "execution_count": 144,
   "metadata": {},
   "outputs": [
    {
     "name": "stdout",
     "output_type": "stream",
     "text": [
      "Question text length characteristics:\n",
      "Mean 503.3174312246893\n",
      "Max 3000\n",
      "Min 0\n",
      "Std 454.968622124977\n"
     ]
    }
   ],
   "source": [
    "question_text_lens = df['question_text_len']\n",
    "print(\"Question text length characteristics:\")\n",
    "print_stats(question_text_lens)"
   ]
  },
  {
   "cell_type": "code",
   "execution_count": 145,
   "metadata": {},
   "outputs": [
    {
     "data": {
      "image/png": "[encoded data removed]",
      "text/plain": [
       "<Figure size 720x720 with 1 Axes>"
      ]
     },
     "metadata": {},
     "output_type": "display_data"
    }
   ],
   "source": [
    "bins = list(range(0, 3500, 200))\n",
    "plot_hist(question_text_lens.values, bins, x_label=\"Question text length\", y_label=\"# of question texts\")"
   ]
  },
  {
   "cell_type": "code",
   "execution_count": null,
   "metadata": {},
   "outputs": [],
   "source": []
  }
 ],
 "metadata": {
  "kernelspec": {
   "display_name": "Python 3",
   "language": "python",
   "name": "python3"
  },
  "language_info": {
   "codemirror_mode": {
    "name": "ipython",
    "version": 3
   },
   "file_extension": ".py",
   "mimetype": "text/x-python",
   "name": "python",
   "nbconvert_exporter": "python",
   "pygments_lexer": "ipython3",
   "version": "3.8.5"
  }
 },
 "nbformat": 4,
 "nbformat_minor": 4
}